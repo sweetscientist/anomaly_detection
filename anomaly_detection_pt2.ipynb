{
 "cells": [
  {
   "cell_type": "markdown",
   "id": "structured-leone",
   "metadata": {},
   "source": [
    "## Anomaly detection using [KDDCUP](http://kdd.ics.uci.edu/databases/kddcup99/kddcup99.html) data Part 2\n",
    "\n",
    "This notebook is based on the previous notebook, which uses the dataset to build a benchmark classification model that can predict the difference between normal and an intrusion. This time we will work on building a multi-class classification model to determine what type of intrusion is happening and also see how the model performs when there is an unseen attack. \n",
    "\n",
    "For *seen attacks* we will approach by: \n",
    "1. Use a machine learning algorihtm combined with optimization method to understand what type of intrusion it is\n",
    "\n",
    "For *unseen attacks* we will approach two-fold:\n",
    "1. First determine if it is normal or not\n",
    "2. Create a probability distribution of which previously seen intrusion it is similar to\n",
    "\n",
    "#### Load the data"
   ]
  },
  {
   "cell_type": "code",
   "execution_count": null,
   "id": "alpine-syria",
   "metadata": {
    "code_folding": [
     5
    ],
    "scrolled": true
   },
   "outputs": [],
   "source": [
    "import gzip\n",
    "import os\n",
    "import pandas as pd\n",
    "\n",
    "df = pd.read_csv(os.getcwd()+'/kddcup.data_10_percent.gz', compression='gzip', header=None)\n",
    "df.columns = [\"duration\",\"protocol_type\",\"service\",\"flag\",\"src_bytes\",\n",
    "    \"dst_bytes\",\"land\",\"wrong_fragment\",\"urgent\",\"hot\",\"num_failed_logins\",\n",
    "    \"logged_in\",\"num_compromised\",\"root_shell\",\"su_attempted\",\"num_root\",\n",
    "    \"num_file_creations\",\"num_shells\",\"num_access_files\",\"num_outbound_cmds\",\n",
    "    \"is_host_login\",\"is_guest_login\",\"count\",\"srv_count\",\"serror_rate\",\n",
    "    \"srv_serror_rate\",\"rerror_rate\",\"srv_rerror_rate\",\"same_srv_rate\",\n",
    "    \"diff_srv_rate\",\"srv_diff_host_rate\",\"dst_host_count\",\"dst_host_srv_count\",\n",
    "    \"dst_host_same_srv_rate\",\"dst_host_diff_srv_rate\",\"dst_host_same_src_port_rate\",\n",
    "    \"dst_host_srv_diff_host_rate\",\"dst_host_serror_rate\",\"dst_host_srv_serror_rate\",\n",
    "    \"dst_host_rerror_rate\",\"dst_host_srv_rerror_rate\",\"label\"]\n",
    "df.head()"
   ]
  },
  {
   "cell_type": "markdown",
   "id": "pointed-dover",
   "metadata": {},
   "source": [
    "## Data Pre-processing\n",
    "\n",
    "#### One hot encoding"
   ]
  },
  {
   "cell_type": "code",
   "execution_count": null,
   "id": "rising-rochester",
   "metadata": {},
   "outputs": [],
   "source": [
    "df = pd.get_dummies(data=df, columns=df.loc[:, df.dtypes == object].columns.drop('label'))\n",
    "df.label = df.label.replace(to_replace=df.label.unique(), value=[0,1,2,3,4,5,6,7,8,9,10,11,12,13,14,15,16,17,18,20,21,22,23])"
   ]
  },
  {
   "cell_type": "markdown",
   "id": "brazilian-alloy",
   "metadata": {},
   "source": [
    "#### Split dataset"
   ]
  },
  {
   "cell_type": "code",
   "execution_count": null,
   "id": "unsigned-gravity",
   "metadata": {},
   "outputs": [],
   "source": [
    "from sklearn.model_selection import train_test_split\n",
    "X_train, X_test, y_train, y_test = train_test_split(df, \n",
    "                                                    df.label, test_size=0.30, \n",
    "                                                    random_state=101)"
   ]
  },
  {
   "cell_type": "code",
   "execution_count": null,
   "id": "expired-ceramic",
   "metadata": {},
   "outputs": [],
   "source": [
    "#### Fit SVM"
   ]
  },
  {
   "cell_type": "code",
   "execution_count": null,
   "id": "human-cornwall",
   "metadata": {},
   "outputs": [],
   "source": [
    "from sklearn import svm\n",
    "poly = svm.SVC(C=1, # Regularization parameter\n",
    "               kernel='poly',# Specifies type of algo to use\n",
    "               degree=23,# Degree of the polynomial\n",
    "               probability=True, # Enables usage of fit, predict_proba\n",
    "               verbose=True, # To see progress\n",
    "              ).fit(X_train, y_train)"
   ]
  },
  {
   "cell_type": "code",
   "execution_count": null,
   "id": "imported-applicant",
   "metadata": {},
   "outputs": [],
   "source": [
    "poly_pred = poly.predict(X_test)\n"
   ]
  },
  {
   "cell_type": "code",
   "execution_count": null,
   "id": "bibliographic-radio",
   "metadata": {},
   "outputs": [],
   "source": []
  }
 ],
 "metadata": {
  "kernelspec": {
   "display_name": "Python 3",
   "language": "python",
   "name": "python3"
  },
  "language_info": {
   "codemirror_mode": {
    "name": "ipython",
    "version": 3
   },
   "file_extension": ".py",
   "mimetype": "text/x-python",
   "name": "python",
   "nbconvert_exporter": "python",
   "pygments_lexer": "ipython3",
   "version": "3.9.2"
  }
 },
 "nbformat": 4,
 "nbformat_minor": 5
}
